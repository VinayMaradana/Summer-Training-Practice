{
 "cells": [
  {
   "cell_type": "code",
   "execution_count": null,
   "id": "73538d33-8eb4-497a-87d0-a4003469d2c5",
   "metadata": {},
   "outputs": [
    {
     "name": "stdout",
     "output_type": "stream",
     "text": [
      "Enter the upper bound for the number to guess (integer):  8\n",
      "Guess the number between 1 and 8:  7\n"
     ]
    },
    {
     "name": "stdout",
     "output_type": "stream",
     "text": [
      "Incorrect guess. The number is lower.\n"
     ]
    },
    {
     "name": "stdout",
     "output_type": "stream",
     "text": [
      "Guess the number between 1 and 8:  5\n"
     ]
    },
    {
     "name": "stdout",
     "output_type": "stream",
     "text": [
      "Incorrect guess. The number is lower.\n"
     ]
    },
    {
     "name": "stdout",
     "output_type": "stream",
     "text": [
      "Guess the number between 1 and 8:  4\n"
     ]
    },
    {
     "name": "stdout",
     "output_type": "stream",
     "text": [
      "Incorrect guess. The number is lower.\n"
     ]
    }
   ],
   "source": [
    "import random\n",
    "\n",
    "def guess_number(upper_bound):\n",
    "    # Generate a random number between 1 and upper_bound (inclusive)\n",
    "    secret_number = random.randint(1, upper_bound)\n",
    "    attempts = 0\n",
    "    \n",
    "    while True:\n",
    "        try:\n",
    "            user_guess = int(input(f\"Guess the number between 1 and {upper_bound}: \"))\n",
    "            attempts += 1\n",
    "            \n",
    "            if user_guess == secret_number:\n",
    "                print(f\"Congrats!!! You got it. The number was {secret_number}.\")\n",
    "                print(f\"You took {attempts} attempts to guess the number.\")\n",
    "                break\n",
    "            elif user_guess < secret_number:\n",
    "                print(\"Incorrect guess. The number is higher.\")\n",
    "            else:\n",
    "                print(\"Incorrect guess. The number is lower.\")\n",
    "        \n",
    "        except ValueError:\n",
    "            print(\"Invalid input! Please enter a valid integer.\")\n",
    "\n",
    "if __name__ == \"__main__\":\n",
    "    try:\n",
    "        upper_bound = int(input(\"Enter the upper bound for the number to guess (integer): \"))\n",
    "        if upper_bound < 1:\n",
    "            print(\"Upper bound must be at least 1.\")\n",
    "        else:\n",
    "            guess_number(upper_bound)\n",
    "    except ValueError:\n",
    "        print(\"Invalid input! Please enter a valid integer for the upper bound.\")\n"
   ]
  },
  {
   "cell_type": "code",
   "execution_count": null,
   "id": "67b552d0-1ffa-4401-887a-7971ba60eaee",
   "metadata": {},
   "outputs": [],
   "source": []
  }
 ],
 "metadata": {
  "kernelspec": {
   "display_name": "Python 3 (ipykernel)",
   "language": "python",
   "name": "python3"
  },
  "language_info": {
   "codemirror_mode": {
    "name": "ipython",
    "version": 3
   },
   "file_extension": ".py",
   "mimetype": "text/x-python",
   "name": "python",
   "nbconvert_exporter": "python",
   "pygments_lexer": "ipython3",
   "version": "3.11.7"
  }
 },
 "nbformat": 4,
 "nbformat_minor": 5
}
