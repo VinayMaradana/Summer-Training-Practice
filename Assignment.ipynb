{
 "cells": [
  {
   "cell_type": "code",
   "execution_count": 4,
   "id": "2515d75e-0ae3-4ce7-904e-907a40f23949",
   "metadata": {},
   "outputs": [
    {
     "name": "stdin",
     "output_type": "stream",
     "text": [
      "Start :  1\n",
      "End :  60\n"
     ]
    },
    {
     "name": "stdout",
     "output_type": "stream",
     "text": [
      "The perfect squares between 1 and 60 are: [1, 4, 9, 16, 25, 36, 49]\n"
     ]
    }
   ],
   "source": [
    "#1.\n",
    "def perfect_squares(start, end):\n",
    "    perfect_squares = []\n",
    "    for num in range(start, end + 1):\n",
    "        sqrt_num = int(num ** 0.5)\n",
    "        if sqrt_num * sqrt_num == num:\n",
    "            perfect_squares.append(num)\n",
    "    return perfect_squares\n",
    "start = int(input(\"Start : \"))\n",
    "end = int(input(\"End : \"))\n",
    "if start > end:\n",
    "    print(\"Invalid range!\")\n",
    "else:\n",
    "    squares = perfect_squares(start, end)\n",
    "    if squares:\n",
    "        print(f\"The perfect squares between {start} and {end} are: {squares}\")\n",
    "    else:\n",
    "        print(f\"There are no perfect squares between {start} and {end}.\")"
   ]
  },
  {
   "cell_type": "code",
   "execution_count": 3,
   "id": "64e98c13-6e83-4251-8786-efbd2d624dda",
   "metadata": {},
   "outputs": [
    {
     "name": "stdout",
     "output_type": "stream",
     "text": [
      "*\n",
      "*\t*\n",
      "*\t*\t*\n",
      "*\t*\t*\t*\n",
      "*\t*\t*\t*\t*\n",
      "*\t*\t*\t*\n",
      "*\t*\t*\n",
      "*\t*\n",
      "*\n"
     ]
    }
   ],
   "source": [
    "#2. Write a python program to generate the following pattern\n",
    "def pattern():\n",
    "    for i in range(1,6):\n",
    "        print('\\t'.join('*' * i))\n",
    "    for i in range(4,0,-1):\n",
    "        print('\\t'.join('*' * i))\n",
    "pattern()"
   ]
  },
  {
   "cell_type": "code",
   "execution_count": 5,
   "id": "ff54866f-ab46-420c-9273-0134275d767f",
   "metadata": {},
   "outputs": [
    {
     "name": "stdin",
     "output_type": "stream",
     "text": [
      "Enter a number:  6\n"
     ]
    },
    {
     "name": "stdout",
     "output_type": "stream",
     "text": [
      "6 is not a prime number.\n"
     ]
    }
   ],
   "source": [
    "#3. Check whether a number is prime or not\n",
    "def prime(num):\n",
    "    if num <= 1:\n",
    "        return False\n",
    "    elif num == 2:\n",
    "        return True\n",
    "    elif num % 2 == 0:\n",
    "        return False \n",
    "    else:\n",
    "        for i in range(3, int(num**0.5) + 1, 2):\n",
    "            if num % i == 0:\n",
    "                return False\n",
    "        return True\n",
    "num = int(input(\"Enter a number: \"))\n",
    "if prime(num):\n",
    "    print(f\"{num} is a prime number.\")\n",
    "else:\n",
    "    print(f\"{num} is not a prime number.\")\n"
   ]
  },
  {
   "cell_type": "code",
   "execution_count": null,
   "id": "56b03b5a-f9ee-40bd-b55a-cf9f25c127c2",
   "metadata": {},
   "outputs": [],
   "source": []
  }
 ],
 "metadata": {
  "kernelspec": {
   "display_name": "Python 3 (ipykernel)",
   "language": "python",
   "name": "python3"
  },
  "language_info": {
   "codemirror_mode": {
    "name": "ipython",
    "version": 3
   },
   "file_extension": ".py",
   "mimetype": "text/x-python",
   "name": "python",
   "nbconvert_exporter": "python",
   "pygments_lexer": "ipython3",
   "version": "3.11.7"
  }
 },
 "nbformat": 4,
 "nbformat_minor": 5
}
